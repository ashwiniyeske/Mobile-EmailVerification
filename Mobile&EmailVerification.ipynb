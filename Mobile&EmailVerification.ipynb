{
  "nbformat": 4,
  "nbformat_minor": 0,
  "metadata": {
    "colab": {
      "provenance": []
    },
    "kernelspec": {
      "name": "python3",
      "display_name": "Python 3"
    },
    "language_info": {
      "name": "python"
    }
  },
  "cells": [
    {
      "cell_type": "markdown",
      "source": [
        "# 1. Email Verification"
      ],
      "metadata": {
        "id": "02xREwwn4vVs"
      }
    },
    {
      "cell_type": "code",
      "execution_count": null,
      "metadata": {
        "id": "JXEqvMMWxmhD"
      },
      "outputs": [],
      "source": [
        "import os\n",
        "import math\n",
        "import random\n",
        "import smtplib"
      ]
    },
    {
      "cell_type": "markdown",
      "source": [
        "# Generate OTP using Random Number"
      ],
      "metadata": {
        "id": "3kDIoihAycwP"
      }
    },
    {
      "cell_type": "code",
      "source": [
        "digits=\"0123456789\"\n",
        "OTP=\"\"\n",
        "for i in range(6):\n",
        "  OTP+=digits[math.floor(random.random()*10)]\n",
        "  otp = OTP + \" is your OTP \"\n",
        "  msg = otp"
      ],
      "metadata": {
        "id": "j7YXRNPkx6M1"
      },
      "execution_count": null,
      "outputs": []
    },
    {
      "cell_type": "code",
      "source": [
        "print(msg)"
      ],
      "metadata": {
        "colab": {
          "base_uri": "https://localhost:8080/"
        },
        "id": "q-hQAVIqyjA5",
        "outputId": "14b25612-9885-4ba5-d5c4-2dc3689878e0"
      },
      "execution_count": null,
      "outputs": [
        {
          "output_type": "stream",
          "name": "stdout",
          "text": [
            "627989 is your OTP \n"
          ]
        }
      ]
    },
    {
      "cell_type": "code",
      "source": [
        "s = smtplib.SMTP('smtp.gmail.com',587)\n",
        "s.starttls()\n",
        "\n",
        "emailid = input(\"Enter your email: \")\n",
        "s.login(\"pragyan.ai.school@gmail.com\",\"axsmpceiqluflmwd\")\n",
        "s.sendmail('&&&&&&',emailid,msg)\n"
      ],
      "metadata": {
        "colab": {
          "base_uri": "https://localhost:8080/"
        },
        "id": "xO1KtGm3ype4",
        "outputId": "96e9dbfc-44e1-4d39-a2d4-22799f299afc"
      },
      "execution_count": null,
      "outputs": [
        {
          "name": "stdout",
          "output_type": "stream",
          "text": [
            "Enter your email: yeskeashwini@gmail.com\n"
          ]
        },
        {
          "output_type": "execute_result",
          "data": {
            "text/plain": [
              "{}"
            ]
          },
          "metadata": {},
          "execution_count": 4
        }
      ]
    },
    {
      "cell_type": "code",
      "source": [
        "emailid = input(\"Enter your email: \")\n",
        "s.sendmail('&&&&&&&&&&&&',emailid,msg)\n",
        "a = input(\"Enter  your OTP >>: \")\n",
        "if a == OTP:\n",
        "  print(\"Verified\")\n",
        "else:\n",
        "    print(\"Please check your OTP again\")"
      ],
      "metadata": {
        "colab": {
          "base_uri": "https://localhost:8080/"
        },
        "id": "mmVp-gwT0FKo",
        "outputId": "81aec5a7-7a68-4868-8adf-73e12013e5c8"
      },
      "execution_count": null,
      "outputs": [
        {
          "output_type": "stream",
          "name": "stdout",
          "text": [
            "Enter your email: yeskeashwini@gmail.com\n",
            "Enter  your OTP >>: 627989\n",
            "Verified\n"
          ]
        }
      ]
    },
    {
      "cell_type": "markdown",
      "source": [
        "# 2.phone Verification"
      ],
      "metadata": {
        "id": "6DfYBCjz1UwC"
      }
    },
    {
      "cell_type": "markdown",
      "source": [
        "create account in twilio"
      ],
      "metadata": {
        "id": "xEF1Q45Q4Uvj"
      }
    },
    {
      "cell_type": "code",
      "source": [
        "!pip install flask twilio requests python-dotenv"
      ],
      "metadata": {
        "colab": {
          "base_uri": "https://localhost:8080/"
        },
        "id": "ysufB0Zc1X8z",
        "outputId": "3e980725-2de8-47a3-ddf0-9c8decd5616b"
      },
      "execution_count": null,
      "outputs": [
        {
          "output_type": "stream",
          "name": "stdout",
          "text": [
            "Requirement already satisfied: flask in /usr/local/lib/python3.10/dist-packages (2.2.5)\n",
            "Requirement already satisfied: twilio in /usr/local/lib/python3.10/dist-packages (8.10.2)\n",
            "Requirement already satisfied: requests in /usr/local/lib/python3.10/dist-packages (2.31.0)\n",
            "Requirement already satisfied: python-dotenv in /usr/local/lib/python3.10/dist-packages (1.0.0)\n",
            "Requirement already satisfied: Werkzeug>=2.2.2 in /usr/local/lib/python3.10/dist-packages (from flask) (3.0.1)\n",
            "Requirement already satisfied: Jinja2>=3.0 in /usr/local/lib/python3.10/dist-packages (from flask) (3.1.2)\n",
            "Requirement already satisfied: itsdangerous>=2.0 in /usr/local/lib/python3.10/dist-packages (from flask) (2.1.2)\n",
            "Requirement already satisfied: click>=8.0 in /usr/local/lib/python3.10/dist-packages (from flask) (8.1.7)\n",
            "Requirement already satisfied: PyJWT<3.0.0,>=2.0.0 in /usr/lib/python3/dist-packages (from twilio) (2.3.0)\n",
            "Requirement already satisfied: aiohttp>=3.8.4 in /usr/local/lib/python3.10/dist-packages (from twilio) (3.8.6)\n",
            "Requirement already satisfied: aiohttp-retry>=2.8.3 in /usr/local/lib/python3.10/dist-packages (from twilio) (2.8.3)\n",
            "Requirement already satisfied: charset-normalizer<4,>=2 in /usr/local/lib/python3.10/dist-packages (from requests) (3.3.2)\n",
            "Requirement already satisfied: idna<4,>=2.5 in /usr/local/lib/python3.10/dist-packages (from requests) (3.4)\n",
            "Requirement already satisfied: urllib3<3,>=1.21.1 in /usr/local/lib/python3.10/dist-packages (from requests) (2.0.7)\n",
            "Requirement already satisfied: certifi>=2017.4.17 in /usr/local/lib/python3.10/dist-packages (from requests) (2023.7.22)\n",
            "Requirement already satisfied: attrs>=17.3.0 in /usr/local/lib/python3.10/dist-packages (from aiohttp>=3.8.4->twilio) (23.1.0)\n",
            "Requirement already satisfied: multidict<7.0,>=4.5 in /usr/local/lib/python3.10/dist-packages (from aiohttp>=3.8.4->twilio) (6.0.4)\n",
            "Requirement already satisfied: async-timeout<5.0,>=4.0.0a3 in /usr/local/lib/python3.10/dist-packages (from aiohttp>=3.8.4->twilio) (4.0.3)\n",
            "Requirement already satisfied: yarl<2.0,>=1.0 in /usr/local/lib/python3.10/dist-packages (from aiohttp>=3.8.4->twilio) (1.9.2)\n",
            "Requirement already satisfied: frozenlist>=1.1.1 in /usr/local/lib/python3.10/dist-packages (from aiohttp>=3.8.4->twilio) (1.4.0)\n",
            "Requirement already satisfied: aiosignal>=1.1.2 in /usr/local/lib/python3.10/dist-packages (from aiohttp>=3.8.4->twilio) (1.3.1)\n",
            "Requirement already satisfied: MarkupSafe>=2.0 in /usr/local/lib/python3.10/dist-packages (from Jinja2>=3.0->flask) (2.1.3)\n"
          ]
        }
      ]
    },
    {
      "cell_type": "code",
      "source": [
        "# Twilio account details\n",
        "account_sid = \"ACa28c2bd24d8af665661f42da3ed3a30a\"\n",
        "auth_token = \"d6337a57c3efa97906de0aeae8011a85\""
      ],
      "metadata": {
        "id": "g6odUXVE46Ly"
      },
      "execution_count": null,
      "outputs": []
    },
    {
      "cell_type": "code",
      "source": [
        "from twilio.rest import Client\n",
        "client  = Client(account_sid, auth_token)"
      ],
      "metadata": {
        "id": "qnqPPf0G5hfg"
      },
      "execution_count": null,
      "outputs": []
    },
    {
      "cell_type": "code",
      "source": [
        "phone_to = input(\"Enter Phone no with Country code\")"
      ],
      "metadata": {
        "colab": {
          "base_uri": "https://localhost:8080/"
        },
        "id": "1SCoIGBk5tj6",
        "outputId": "90697195-8e60-4624-e144-be92c1c7bef4"
      },
      "execution_count": null,
      "outputs": [
        {
          "name": "stdout",
          "output_type": "stream",
          "text": [
            "Enter Phone no with Country code+918197381823\n"
          ]
        }
      ]
    },
    {
      "cell_type": "code",
      "source": [
        "digits = \"0123456789\"\n",
        "OTP = \"\"\n",
        "for i in range(6):\n",
        "  OTP+=digits[math.floor(random.random()*10)]\n",
        "  otp = OTP + \" is your OTP \"\n",
        "  msg = OTP\n"
      ],
      "metadata": {
        "id": "LakK5eqi56bL"
      },
      "execution_count": null,
      "outputs": []
    },
    {
      "cell_type": "code",
      "source": [
        "client.messages.create(to=[phone_to], from_=\"+13345185102\", body=msg)"
      ],
      "metadata": {
        "colab": {
          "base_uri": "https://localhost:8080/"
        },
        "id": "GBvhxRYF6xe4",
        "outputId": "798d0df6-6fd4-40c6-d2b1-7b8fd84c1686"
      },
      "execution_count": null,
      "outputs": [
        {
          "output_type": "execute_result",
          "data": {
            "text/plain": [
              "<Twilio.Api.V2010.MessageInstance account_sid=ACa28c2bd24d8af665661f42da3ed3a30a sid=SM566cf700cea7ff812f03a1c491311489>"
            ]
          },
          "metadata": {},
          "execution_count": 32
        }
      ]
    },
    {
      "cell_type": "code",
      "source": [
        "a = input(\"Enter  your OTP >>: \")\n",
        "if a == OTP:\n",
        "  print(\"Verified\")\n",
        "else:\n",
        "    print(\"Please check your OTP again\")"
      ],
      "metadata": {
        "colab": {
          "base_uri": "https://localhost:8080/"
        },
        "id": "ml8L4_dL6oaY",
        "outputId": "0a9162f6-e26e-410e-fc19-2afc10aade7e"
      },
      "execution_count": null,
      "outputs": [
        {
          "output_type": "stream",
          "name": "stdout",
          "text": [
            "Enter  your OTP >>: 015168\n",
            "Verified\n"
          ]
        }
      ]
    }
  ]
}